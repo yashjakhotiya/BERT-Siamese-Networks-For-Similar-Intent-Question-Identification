{
  "nbformat": 4,
  "nbformat_minor": 0,
  "metadata": {
    "colab": {
      "name": "Kmeans_GPU.ipynb",
      "provenance": [],
      "collapsed_sections": []
    },
    "kernelspec": {
      "name": "python3",
      "display_name": "Python 3"
    },
    "language_info": {
      "name": "python"
    },
    "accelerator": "GPU"
  },
  "cells": [
    {
      "cell_type": "code",
      "metadata": {
        "colab": {
          "base_uri": "https://localhost:8080/"
        },
        "id": "fsfaSHz2RA7L",
        "outputId": "a9b86198-1a0c-4d18-f53a-7aee21973dae"
      },
      "source": [
        "# !export CUDA_TOOLKIT_ROOT_DIR='/usr/local/cuda'; export CUDA_ARCH=52; export DISABLE_R='y';pip install libKMCUDA"
      ],
      "execution_count": null,
      "outputs": [
        {
          "output_type": "stream",
          "name": "stdout",
          "text": [
            "Collecting libKMCUDA\n",
            "  Downloading libKMCUDA-6.2.3.tar.gz (47 kB)\n",
            "\u001b[?25l\r\u001b[K     |███████                         | 10 kB 17.8 MB/s eta 0:00:01\r\u001b[K     |█████████████▉                  | 20 kB 22.8 MB/s eta 0:00:01\r\u001b[K     |████████████████████▊           | 30 kB 24.6 MB/s eta 0:00:01\r\u001b[K     |███████████████████████████▊    | 40 kB 20.6 MB/s eta 0:00:01\r\u001b[K     |████████████████████████████████| 47 kB 3.5 MB/s \n",
            "\u001b[?25hRequirement already satisfied: numpy in /usr/local/lib/python3.7/dist-packages (from libKMCUDA) (1.19.5)\n",
            "Building wheels for collected packages: libKMCUDA\n",
            "  Building wheel for libKMCUDA (setup.py) ... \u001b[?25l\u001b[?25hcanceled\n",
            "\u001b[31mERROR: Operation cancelled by user\u001b[0m\n"
          ]
        }
      ]
    },
    {
      "cell_type": "code",
      "metadata": {
        "colab": {
          "base_uri": "https://localhost:8080/"
        },
        "id": "NaamAQcfXObS",
        "outputId": "e94133da-ed16-4ffc-a9e1-01b961608086"
      },
      "source": [
        "pip install kmeans-pytorch"
      ],
      "execution_count": null,
      "outputs": [
        {
          "output_type": "stream",
          "name": "stdout",
          "text": [
            "Requirement already satisfied: kmeans-pytorch in /usr/local/lib/python3.7/dist-packages (0.3)\n"
          ]
        }
      ]
    },
    {
      "cell_type": "code",
      "metadata": {
        "id": "woVBTuS_VuS1"
      },
      "source": [
        "from kmeans_pytorch import kmeans"
      ],
      "execution_count": null,
      "outputs": []
    },
    {
      "cell_type": "code",
      "metadata": {
        "colab": {
          "base_uri": "https://localhost:8080/"
        },
        "id": "fwxJm-1_S-_v",
        "outputId": "55c46fc5-d6b6-4adf-86b9-56168485047f"
      },
      "source": [
        "!nvidia-smi"
      ],
      "execution_count": null,
      "outputs": [
        {
          "output_type": "stream",
          "name": "stdout",
          "text": [
            "Sat Dec  4 22:04:16 2021       \n",
            "+-----------------------------------------------------------------------------+\n",
            "| NVIDIA-SMI 495.44       Driver Version: 460.32.03    CUDA Version: 11.2     |\n",
            "|-------------------------------+----------------------+----------------------+\n",
            "| GPU  Name        Persistence-M| Bus-Id        Disp.A | Volatile Uncorr. ECC |\n",
            "| Fan  Temp  Perf  Pwr:Usage/Cap|         Memory-Usage | GPU-Util  Compute M. |\n",
            "|                               |                      |               MIG M. |\n",
            "|===============================+======================+======================|\n",
            "|   0  Tesla K80           Off  | 00000000:00:04.0 Off |                    0 |\n",
            "| N/A   40C    P0    58W / 149W |    536MiB / 11441MiB |      0%      Default |\n",
            "|                               |                      |                  N/A |\n",
            "+-------------------------------+----------------------+----------------------+\n",
            "                                                                               \n",
            "+-----------------------------------------------------------------------------+\n",
            "| Processes:                                                                  |\n",
            "|  GPU   GI   CI        PID   Type   Process name                  GPU Memory |\n",
            "|        ID   ID                                                   Usage      |\n",
            "|=============================================================================|\n",
            "|  No running processes found                                                 |\n",
            "+-----------------------------------------------------------------------------+\n"
          ]
        }
      ]
    },
    {
      "cell_type": "code",
      "metadata": {
        "colab": {
          "base_uri": "https://localhost:8080/"
        },
        "id": "VGHBXKMQXDb9",
        "outputId": "f12dc2b7-ac88-4bb9-bafd-40b0d252f90a"
      },
      "source": [
        "!nvcc -arch-ls\n"
      ],
      "execution_count": null,
      "outputs": [
        {
          "output_type": "stream",
          "name": "stdout",
          "text": [
            "compute_35\n",
            "compute_37\n",
            "compute_50\n",
            "compute_52\n",
            "compute_53\n",
            "compute_60\n",
            "compute_61\n",
            "compute_62\n",
            "compute_70\n",
            "compute_72\n",
            "compute_75\n",
            "compute_80\n",
            "compute_86\n"
          ]
        }
      ]
    },
    {
      "cell_type": "code",
      "metadata": {
        "colab": {
          "base_uri": "https://localhost:8080/"
        },
        "id": "sjyOIX7WW4Jn",
        "outputId": "e60ac4fc-075b-4170-ac94-c360329e7acd"
      },
      "source": [
        "!pip install faiss-gpu"
      ],
      "execution_count": null,
      "outputs": [
        {
          "output_type": "stream",
          "name": "stdout",
          "text": [
            "Collecting faiss-gpu\n",
            "  Downloading faiss_gpu-1.7.1.post3-cp37-cp37m-manylinux_2_17_x86_64.manylinux2014_x86_64.whl (90.1 MB)\n",
            "\u001b[K     |████████████████████████████████| 90.1 MB 18 kB/s \n",
            "\u001b[?25hInstalling collected packages: faiss-gpu\n",
            "Successfully installed faiss-gpu-1.7.1.post3\n"
          ]
        }
      ]
    },
    {
      "cell_type": "code",
      "metadata": {
        "id": "ibeE_xFgUhkW"
      },
      "source": [
        "import torch\n",
        "import numpy as np\n",
        "import pickle\n",
        "from sklearn.decomposition import PCA\n",
        "import faiss\n",
        "import matplotlib.pyplot as plt\n",
        "from sklearn.neighbors import KDTree\n",
        "from tqdm import tqdm\n"
      ],
      "execution_count": null,
      "outputs": []
    },
    {
      "cell_type": "code",
      "metadata": {
        "id": "n966hDe1XZeT"
      },
      "source": [
        "!cp /content/drive/MyDrive/MLProject/bert_embeddings_1.pkl /content/"
      ],
      "execution_count": null,
      "outputs": []
    },
    {
      "cell_type": "code",
      "metadata": {
        "id": "rikl53VUVU2V"
      },
      "source": [
        "with open('/content/drive/MyDrive/ML_Project/bert_embeddings_1.pkl', 'rb') as f:\n",
        "    embeddings = pickle.load(f)"
      ],
      "execution_count": null,
      "outputs": []
    },
    {
      "cell_type": "code",
      "metadata": {
        "colab": {
          "base_uri": "https://localhost:8080/"
        },
        "id": "tt5mV3gYVlyN",
        "outputId": "7e019e77-6491-4e36-9e2e-536ca68bcc3a"
      },
      "source": [
        "embeddings.shape"
      ],
      "execution_count": null,
      "outputs": [
        {
          "output_type": "execute_result",
          "data": {
            "text/plain": [
              "(508628, 768)"
            ]
          },
          "metadata": {},
          "execution_count": 7
        }
      ]
    },
    {
      "cell_type": "code",
      "metadata": {
        "id": "FXOXjHy6gwQx"
      },
      "source": [
        "with open('/content/drive/MyDrive/ML_Project/sentence_data.pkl', 'rb') as f:\n",
        "    sentence_data = pickle.load(f)"
      ],
      "execution_count": null,
      "outputs": []
    },
    {
      "cell_type": "code",
      "metadata": {
        "colab": {
          "base_uri": "https://localhost:8080/"
        },
        "id": "Y5JV1Oy4g6Ot",
        "outputId": "35557a82-9b59-4203-edb6-7991db0f9ce9"
      },
      "source": [
        "len(sentence_data[1])"
      ],
      "execution_count": null,
      "outputs": [
        {
          "output_type": "execute_result",
          "data": {
            "text/plain": [
              "577240"
            ]
          },
          "metadata": {},
          "execution_count": 9
        }
      ]
    },
    {
      "cell_type": "code",
      "metadata": {
        "id": "0lV_IEWLg9Va"
      },
      "source": [
        "with open('/content/drive/MyDrive/ML_Project/processed_data_2.pkl', 'rb') as f:\n",
        "    processed_data = pickle.load(f)"
      ],
      "execution_count": null,
      "outputs": []
    },
    {
      "cell_type": "code",
      "metadata": {
        "colab": {
          "base_uri": "https://localhost:8080/"
        },
        "id": "NwCgfU5zhQzU",
        "outputId": "73b8964c-e467-47fe-b91f-5201c2d4eddb"
      },
      "source": [
        "len(processed_data[1])"
      ],
      "execution_count": null,
      "outputs": [
        {
          "output_type": "execute_result",
          "data": {
            "text/plain": [
              "577240"
            ]
          },
          "metadata": {},
          "execution_count": 11
        }
      ]
    },
    {
      "cell_type": "code",
      "metadata": {
        "colab": {
          "base_uri": "https://localhost:8080/"
        },
        "id": "PXhsDq70huF5",
        "outputId": "c1a51f53-25f1-49d2-c50a-19b309104788"
      },
      "source": [
        "sentence_process_mapping = {}\n",
        "for i in tqdm(range(len(processed_data[0]))) :\n",
        "  key = tuple(processed_data[0][i])\n",
        "\n",
        "  if key in sentence_process_mapping :\n",
        "    if sentence_data[0][i] not in sentence_process_mapping[key] :\n",
        "      sentence_process_mapping[key].append(sentence_data[0][i])\n",
        "  else :\n",
        "    sentence_process_mapping[key] = [sentence_data[0][i]]\n",
        "\n",
        "for i in tqdm(range(len(processed_data[1]))) :\n",
        "  key = tuple(processed_data[1][i])\n",
        "\n",
        "  if key in sentence_process_mapping :\n",
        "    if sentence_data[1][i] not in sentence_process_mapping[key] :\n",
        "      sentence_process_mapping[key].append(sentence_data[1][i])\n",
        "  else :\n",
        "    sentence_process_mapping[key] = [sentence_data[1][i]]"
      ],
      "execution_count": null,
      "outputs": [
        {
          "output_type": "stream",
          "name": "stderr",
          "text": [
            "100%|██████████| 577240/577240 [00:01<00:00, 322636.19it/s]\n",
            "100%|██████████| 577240/577240 [00:01<00:00, 379858.97it/s]\n"
          ]
        }
      ]
    },
    {
      "cell_type": "code",
      "metadata": {
        "colab": {
          "base_uri": "https://localhost:8080/"
        },
        "id": "BDgMeFKNisUz",
        "outputId": "e8b99445-46cc-47c3-870c-09abe01ce2bf"
      },
      "source": [
        "len(sentence_process_mapping)"
      ],
      "execution_count": null,
      "outputs": [
        {
          "output_type": "execute_result",
          "data": {
            "text/plain": [
              "508628"
            ]
          },
          "metadata": {},
          "execution_count": 79
        }
      ]
    },
    {
      "cell_type": "code",
      "metadata": {
        "colab": {
          "base_uri": "https://localhost:8080/"
        },
        "id": "hfZm6irVi0lm",
        "outputId": "c4bc6871-7162-4712-9830-1778f1791b66"
      },
      "source": [
        "sentence_process_mapping[tuple(processed_data[0][0])]"
      ],
      "execution_count": null,
      "outputs": [
        {
          "output_type": "execute_result",
          "data": {
            "text/plain": [
              "['What is the step by step guide to invest in share market in india?']"
            ]
          },
          "metadata": {},
          "execution_count": 80
        }
      ]
    },
    {
      "cell_type": "code",
      "metadata": {
        "colab": {
          "base_uri": "https://localhost:8080/"
        },
        "id": "7tG6hPagi__D",
        "outputId": "20d96fff-384f-4fe9-d8be-d0723c015bc2"
      },
      "source": [
        "t_p1 = []\n",
        "t_p2 = []\n",
        "for i in tqdm(range(len(processed_data[0]))) :\n",
        "  t_p1.append(tuple(processed_data[0][i]))\n",
        "  t_p2.append(tuple(processed_data[1][i]))"
      ],
      "execution_count": null,
      "outputs": [
        {
          "output_type": "stream",
          "name": "stderr",
          "text": [
            "100%|██████████| 577240/577240 [00:00<00:00, 609187.95it/s]\n"
          ]
        }
      ]
    },
    {
      "cell_type": "code",
      "metadata": {
        "id": "DTX5O1idju5Z"
      },
      "source": [
        "combined_list = list(set(t_p1 + t_p2))"
      ],
      "execution_count": null,
      "outputs": []
    },
    {
      "cell_type": "code",
      "metadata": {
        "colab": {
          "base_uri": "https://localhost:8080/"
        },
        "id": "9LPXJJFrj85x",
        "outputId": "25954399-779a-4342-fa19-fdb0c6ff9b84"
      },
      "source": [
        "combined_list[0]"
      ],
      "execution_count": null,
      "outputs": [
        {
          "output_type": "execute_result",
          "data": {
            "text/plain": [
              "('common', 'mental', 'disorder', 'definition')"
            ]
          },
          "metadata": {},
          "execution_count": 86
        }
      ]
    },
    {
      "cell_type": "code",
      "metadata": {
        "colab": {
          "base_uri": "https://localhost:8080/"
        },
        "id": "0MZ2UpfFj3l8",
        "outputId": "bd18065c-2f75-4e0d-9032-4f98b5ecef01"
      },
      "source": [
        "for i in tqdm(range(len(combined_list))) :\n",
        "  combined_list[i] = list(combined_list[i])"
      ],
      "execution_count": null,
      "outputs": [
        {
          "output_type": "stream",
          "name": "stderr",
          "text": [
            "100%|██████████| 508628/508628 [00:01<00:00, 363712.70it/s]\n"
          ]
        }
      ]
    },
    {
      "cell_type": "code",
      "metadata": {
        "colab": {
          "base_uri": "https://localhost:8080/"
        },
        "id": "csGJ8WztkNNV",
        "outputId": "5340acd6-b4db-47cb-a6ae-b9266dae37b0"
      },
      "source": [
        "combined_list[0]"
      ],
      "execution_count": null,
      "outputs": [
        {
          "output_type": "execute_result",
          "data": {
            "text/plain": [
              "['common', 'mental', 'disorder', 'definition']"
            ]
          },
          "metadata": {},
          "execution_count": 89
        }
      ]
    },
    {
      "cell_type": "code",
      "metadata": {
        "colab": {
          "base_uri": "https://localhost:8080/"
        },
        "id": "Fr7lP4NSkSe8",
        "outputId": "eca0d427-81a9-4b76-cfd7-724dfce677ff"
      },
      "source": [
        "sentence_process_mapping[tuple(combined_list[0])]"
      ],
      "execution_count": null,
      "outputs": [
        {
          "output_type": "execute_result",
          "data": {
            "text/plain": [
              "['What are the most common mental disorders and their definitions?']"
            ]
          },
          "metadata": {},
          "execution_count": 90
        }
      ]
    },
    {
      "cell_type": "code",
      "metadata": {
        "colab": {
          "base_uri": "https://localhost:8080/"
        },
        "id": "EQgYr5vxhauN",
        "outputId": "53529945-26cb-494d-bc3c-f4eecfda3155"
      },
      "source": [
        ""
      ],
      "execution_count": null,
      "outputs": [
        {
          "output_type": "stream",
          "name": "stdout",
          "text": [
            "True\n"
          ]
        }
      ]
    },
    {
      "cell_type": "code",
      "metadata": {
        "colab": {
          "base_uri": "https://localhost:8080/"
        },
        "id": "EEu8lWiudo9v",
        "outputId": "2bbd2a08-571c-4dd9-f786-6c5d90854234"
      },
      "source": [
        "pca = PCA(n_components=15)\n",
        "pca.fit(embeddings)"
      ],
      "execution_count": null,
      "outputs": [
        {
          "output_type": "execute_result",
          "data": {
            "text/plain": [
              "PCA(n_components=15)"
            ]
          },
          "metadata": {},
          "execution_count": 15
        }
      ]
    },
    {
      "cell_type": "code",
      "metadata": {
        "colab": {
          "base_uri": "https://localhost:8080/"
        },
        "id": "4Dz62Sl6WARZ",
        "outputId": "1912ac91-230f-4ada-cc73-5ccccf3d2ef9"
      },
      "source": [
        "np.sum(pca.explained_variance_ratio_)"
      ],
      "execution_count": null,
      "outputs": [
        {
          "output_type": "execute_result",
          "data": {
            "text/plain": [
              "0.99158448096314"
            ]
          },
          "metadata": {},
          "execution_count": 16
        }
      ]
    },
    {
      "cell_type": "code",
      "metadata": {
        "colab": {
          "base_uri": "https://localhost:8080/",
          "height": 296
        },
        "id": "2KAfYTSiW0Hi",
        "outputId": "a084500d-02ea-4245-8375-dd5b883ea0bc"
      },
      "source": [
        "plt.plot(np.cumsum(pca.explained_variance_ratio_))\n",
        "plt.xlabel('number of components')\n",
        "plt.ylabel('cumulative explained variance')"
      ],
      "execution_count": null,
      "outputs": [
        {
          "output_type": "execute_result",
          "data": {
            "text/plain": [
              "Text(0, 0.5, 'cumulative explained variance')"
            ]
          },
          "metadata": {},
          "execution_count": 14
        },
        {
          "output_type": "display_data",
          "data": {
            "image/png": "[encoded data removed]",
            "text/plain": [
              "<Figure size 432x288 with 1 Axes>"
            ]
          },
          "metadata": {
            "needs_background": "light"
          }
        }
      ]
    },
    {
      "cell_type": "code",
      "metadata": {
        "id": "yISkqRQ_eBVY"
      },
      "source": [
        "new_embeddings = pca.transform(embeddings)"
      ],
      "execution_count": null,
      "outputs": []
    },
    {
      "cell_type": "code",
      "metadata": {
        "colab": {
          "base_uri": "https://localhost:8080/"
        },
        "id": "0Clu1otUeHGC",
        "outputId": "be46a945-ab1e-420e-bb61-b208f863165f"
      },
      "source": [
        "new_embeddings.shape"
      ],
      "execution_count": null,
      "outputs": [
        {
          "output_type": "execute_result",
          "data": {
            "text/plain": [
              "(508628, 15)"
            ]
          },
          "metadata": {},
          "execution_count": 18
        }
      ]
    },
    {
      "cell_type": "code",
      "metadata": {
        "id": "eKd2B-JaahbY"
      },
      "source": [
        "data = torch.from_numpy(new_embeddings)"
      ],
      "execution_count": null,
      "outputs": []
    },
    {
      "cell_type": "code",
      "metadata": {
        "colab": {
          "base_uri": "https://localhost:8080/",
          "height": 399
        },
        "id": "lxDojYSwVsRw",
        "outputId": "3669523e-7a04-42b5-bd98-6986ae81c86b"
      },
      "source": [
        "num_clusters = 100\n",
        "cluster_ids_x, cluster_centers = kmeans(\n",
        "    X=data, num_clusters=num_clusters, distance='euclidean', device=torch.device('cuda:0')\n",
        ")"
      ],
      "execution_count": null,
      "outputs": [
        {
          "output_type": "stream",
          "name": "stdout",
          "text": [
            "running k-means on cuda:0..\n"
          ]
        },
        {
          "output_type": "stream",
          "name": "stderr",
          "text": [
            "[running kmeans]: 425it [20:48,  3.00s/it, center_shift=0.276702, iteration=425, tol=0.000100]"
          ]
        },
        {
          "output_type": "error",
          "ename": "KeyboardInterrupt",
          "evalue": "ignored",
          "traceback": [
            "\u001b[0;31m---------------------------------------------------------------------------\u001b[0m",
            "\u001b[0;31mKeyboardInterrupt\u001b[0m                         Traceback (most recent call last)",
            "\u001b[0;32m<ipython-input-9-f17e9f7b5a05>\u001b[0m in \u001b[0;36m<module>\u001b[0;34m()\u001b[0m\n\u001b[1;32m      1\u001b[0m \u001b[0mnum_clusters\u001b[0m \u001b[0;34m=\u001b[0m \u001b[0;36m100\u001b[0m\u001b[0;34m\u001b[0m\u001b[0;34m\u001b[0m\u001b[0m\n\u001b[1;32m      2\u001b[0m cluster_ids_x, cluster_centers = kmeans(\n\u001b[0;32m----> 3\u001b[0;31m     \u001b[0mX\u001b[0m\u001b[0;34m=\u001b[0m\u001b[0mdata\u001b[0m\u001b[0;34m,\u001b[0m \u001b[0mnum_clusters\u001b[0m\u001b[0;34m=\u001b[0m\u001b[0mnum_clusters\u001b[0m\u001b[0;34m,\u001b[0m \u001b[0mdistance\u001b[0m\u001b[0;34m=\u001b[0m\u001b[0;34m'euclidean'\u001b[0m\u001b[0;34m,\u001b[0m \u001b[0mdevice\u001b[0m\u001b[0;34m=\u001b[0m\u001b[0mtorch\u001b[0m\u001b[0;34m.\u001b[0m\u001b[0mdevice\u001b[0m\u001b[0;34m(\u001b[0m\u001b[0;34m'cuda:0'\u001b[0m\u001b[0;34m)\u001b[0m\u001b[0;34m\u001b[0m\u001b[0;34m\u001b[0m\u001b[0m\n\u001b[0m\u001b[1;32m      4\u001b[0m )\n",
            "\u001b[0;32m/usr/local/lib/python3.7/dist-packages/kmeans_pytorch/__init__.py\u001b[0m in \u001b[0;36mkmeans\u001b[0;34m(X, num_clusters, distance, tol, device)\u001b[0m\n\u001b[1;32m     54\u001b[0m     \u001b[0mtqdm_meter\u001b[0m \u001b[0;34m=\u001b[0m \u001b[0mtqdm\u001b[0m\u001b[0;34m(\u001b[0m\u001b[0mdesc\u001b[0m\u001b[0;34m=\u001b[0m\u001b[0;34m'[running kmeans]'\u001b[0m\u001b[0;34m)\u001b[0m\u001b[0;34m\u001b[0m\u001b[0;34m\u001b[0m\u001b[0m\n\u001b[1;32m     55\u001b[0m     \u001b[0;32mwhile\u001b[0m \u001b[0;32mTrue\u001b[0m\u001b[0;34m:\u001b[0m\u001b[0;34m\u001b[0m\u001b[0;34m\u001b[0m\u001b[0m\n\u001b[0;32m---> 56\u001b[0;31m         \u001b[0mdis\u001b[0m \u001b[0;34m=\u001b[0m \u001b[0mpairwise_distance_function\u001b[0m\u001b[0;34m(\u001b[0m\u001b[0mX\u001b[0m\u001b[0;34m,\u001b[0m \u001b[0minitial_state\u001b[0m\u001b[0;34m)\u001b[0m\u001b[0;34m\u001b[0m\u001b[0;34m\u001b[0m\u001b[0m\n\u001b[0m\u001b[1;32m     57\u001b[0m \u001b[0;34m\u001b[0m\u001b[0m\n\u001b[1;32m     58\u001b[0m         \u001b[0mchoice_cluster\u001b[0m \u001b[0;34m=\u001b[0m \u001b[0mtorch\u001b[0m\u001b[0;34m.\u001b[0m\u001b[0margmin\u001b[0m\u001b[0;34m(\u001b[0m\u001b[0mdis\u001b[0m\u001b[0;34m,\u001b[0m \u001b[0mdim\u001b[0m\u001b[0;34m=\u001b[0m\u001b[0;36m1\u001b[0m\u001b[0;34m)\u001b[0m\u001b[0;34m\u001b[0m\u001b[0;34m\u001b[0m\u001b[0m\n",
            "\u001b[0;32m/usr/local/lib/python3.7/dist-packages/kmeans_pytorch/__init__.py\u001b[0m in \u001b[0;36mpairwise_distance\u001b[0;34m(data1, data2, device)\u001b[0m\n\u001b[1;32m    132\u001b[0m     \u001b[0mB\u001b[0m \u001b[0;34m=\u001b[0m \u001b[0mdata2\u001b[0m\u001b[0;34m.\u001b[0m\u001b[0munsqueeze\u001b[0m\u001b[0;34m(\u001b[0m\u001b[0mdim\u001b[0m\u001b[0;34m=\u001b[0m\u001b[0;36m0\u001b[0m\u001b[0;34m)\u001b[0m\u001b[0;34m\u001b[0m\u001b[0;34m\u001b[0m\u001b[0m\n\u001b[1;32m    133\u001b[0m \u001b[0;34m\u001b[0m\u001b[0m\n\u001b[0;32m--> 134\u001b[0;31m     \u001b[0mdis\u001b[0m \u001b[0;34m=\u001b[0m \u001b[0;34m(\u001b[0m\u001b[0mA\u001b[0m \u001b[0;34m-\u001b[0m \u001b[0mB\u001b[0m\u001b[0;34m)\u001b[0m \u001b[0;34m**\u001b[0m \u001b[0;36m2.0\u001b[0m\u001b[0;34m\u001b[0m\u001b[0;34m\u001b[0m\u001b[0m\n\u001b[0m\u001b[1;32m    135\u001b[0m     \u001b[0;31m# return N*N matrix for pairwise distance\u001b[0m\u001b[0;34m\u001b[0m\u001b[0;34m\u001b[0m\u001b[0;34m\u001b[0m\u001b[0m\n\u001b[1;32m    136\u001b[0m     \u001b[0mdis\u001b[0m \u001b[0;34m=\u001b[0m \u001b[0mdis\u001b[0m\u001b[0;34m.\u001b[0m\u001b[0msum\u001b[0m\u001b[0;34m(\u001b[0m\u001b[0mdim\u001b[0m\u001b[0;34m=\u001b[0m\u001b[0;34m-\u001b[0m\u001b[0;36m1\u001b[0m\u001b[0;34m)\u001b[0m\u001b[0;34m.\u001b[0m\u001b[0msqueeze\u001b[0m\u001b[0;34m(\u001b[0m\u001b[0;34m)\u001b[0m\u001b[0;34m\u001b[0m\u001b[0;34m\u001b[0m\u001b[0m\n",
            "\u001b[0;31mKeyboardInterrupt\u001b[0m: "
          ]
        }
      ]
    },
    {
      "cell_type": "code",
      "metadata": {
        "colab": {
          "base_uri": "https://localhost:8080/"
        },
        "id": "zN0wE5YfYS3y",
        "outputId": "f16623f1-9e46-45a4-ade0-8b9904f01bc9"
      },
      "source": [
        "len(cluster_centers)"
      ],
      "execution_count": null,
      "outputs": [
        {
          "output_type": "execute_result",
          "data": {
            "text/plain": [
              "5"
            ]
          },
          "metadata": {},
          "execution_count": 13
        }
      ]
    },
    {
      "cell_type": "code",
      "metadata": {
        "colab": {
          "base_uri": "https://localhost:8080/"
        },
        "id": "QA15EambkZbK",
        "outputId": "2cdc508a-f983-479d-c9f2-bf68321e0b5a"
      },
      "source": [
        "!pip install faiss-gpu"
      ],
      "execution_count": null,
      "outputs": [
        {
          "output_type": "stream",
          "name": "stdout",
          "text": [
            "Collecting faiss-gpu\n",
            "  Downloading faiss_gpu-1.7.1.post3-cp37-cp37m-manylinux_2_17_x86_64.manylinux2014_x86_64.whl (90.1 MB)\n",
            "\u001b[K     |████████████████████████████████| 90.1 MB 2.9 MB/s \n",
            "\u001b[?25hInstalling collected packages: faiss-gpu\n",
            "Successfully installed faiss-gpu-1.7.1.post3\n"
          ]
        }
      ]
    },
    {
      "cell_type": "code",
      "metadata": {
        "id": "P4Gpq2q4keHw"
      },
      "source": [
        ""
      ],
      "execution_count": null,
      "outputs": []
    },
    {
      "cell_type": "code",
      "metadata": {
        "colab": {
          "base_uri": "https://localhost:8080/"
        },
        "id": "P9QiB-lMkgTq",
        "outputId": "e6c8ad1b-a9d5-441e-c5fb-55a02369e650"
      },
      "source": [
        "clusters = [10, 20, 40, 80, 100, 200, 300, 400, 500, 600, 700, 800, 900, 1000]\n",
        "losses = []\n",
        "for i in clusters:\n",
        "  ncentroids = i\n",
        "  niter = 300\n",
        "  verbose = True\n",
        "  max_points_per_centroid = int(new_embeddings.shape[0]/ncentroids/3)\n",
        "  d = new_embeddings.shape[1]\n",
        "  kmeans = faiss.Kmeans(d, ncentroids, niter=niter, verbose=verbose,gpu=True,max_points_per_centroid=max_points_per_centroid)\n",
        "  error = kmeans.train(new_embeddings)\n",
        "  losses.append(error)\n",
        "  print(error)"
      ],
      "execution_count": null,
      "outputs": [
        {
          "output_type": "stream",
          "name": "stdout",
          "text": [
            "5079032.5\n",
            "3552484.25\n",
            "2565640.75\n",
            "1872323.125\n",
            "1686285.625\n",
            "1221635.25\n",
            "1010738.375\n",
            "878950.125\n",
            "794850.4375\n",
            "724510.1875\n",
            "673001.5625\n",
            "628152.0625\n",
            "596301.0\n",
            "564815.3125\n"
          ]
        }
      ]
    },
    {
      "cell_type": "code",
      "metadata": {
        "colab": {
          "base_uri": "https://localhost:8080/",
          "height": 295
        },
        "id": "nUQN5browhFT",
        "outputId": "0ba46f3c-29f0-43fa-a4fb-07c094c54145"
      },
      "source": [
        "plt.plot(clusters, losses, 'bx-')\n",
        "plt.xlabel('k')\n",
        "plt.ylabel('Distortion')\n",
        "plt.title('The Elbow Method showing the optimal k')\n",
        "plt.show()"
      ],
      "execution_count": null,
      "outputs": [
        {
          "output_type": "display_data",
          "data": {
            "image/png": "[encoded data removed]",
            "text/plain": [
              "<Figure size 432x288 with 1 Axes>"
            ]
          },
          "metadata": {
            "needs_background": "light"
          }
        }
      ]
    },
    {
      "cell_type": "code",
      "metadata": {
        "colab": {
          "base_uri": "https://localhost:8080/",
          "height": 295
        },
        "id": "cPKmpYZHvtvD",
        "outputId": "7103ffa5-6f95-4089-d86f-68fcdc8ac7a7"
      },
      "source": [
        "plt.plot(clusters, losses, 'bx-')\n",
        "plt.xlabel('k')\n",
        "plt.ylabel('Distortion')\n",
        "plt.title('The Elbow Method showing the optimal k')\n",
        "plt.show()"
      ],
      "execution_count": null,
      "outputs": [
        {
          "output_type": "display_data",
          "data": {
            "image/png": "[encoded data removed]",
            "text/plain": [
              "<Figure size 432x288 with 1 Axes>"
            ]
          },
          "metadata": {
            "needs_background": "light"
          }
        }
      ]
    },
    {
      "cell_type": "code",
      "metadata": {
        "id": "RbBOMV4-rN86"
      },
      "source": [
        "D, I = kmeans.index.search(new_embeddings, 1)"
      ],
      "execution_count": null,
      "outputs": []
    },
    {
      "cell_type": "code",
      "metadata": {
        "id": "hep_KLCfpMA5"
      },
      "source": [
        "#run\n",
        "def create_sentence_mapping(processed_data,sentence_data) :\n",
        "  sentence_process_mapping = {}\n",
        "  for i in tqdm(range(len(processed_data[0]))) :\n",
        "    key = tuple(processed_data[0][i])\n",
        "\n",
        "    if key in sentence_process_mapping :\n",
        "      if sentence_data[0][i] not in sentence_process_mapping[key] :\n",
        "        sentence_process_mapping[key].append(sentence_data[0][i])\n",
        "    else :\n",
        "      sentence_process_mapping[key] = [sentence_data[0][i]]\n",
        "\n",
        "  for i in tqdm(range(len(processed_data[1]))) :\n",
        "    key = tuple(processed_data[1][i])\n",
        "\n",
        "    if key in sentence_process_mapping :\n",
        "      if sentence_data[1][i] not in sentence_process_mapping[key] :\n",
        "        sentence_process_mapping[key].append(sentence_data[1][i])\n",
        "    else :\n",
        "      sentence_process_mapping[key] = [sentence_data[1][i]]\n",
        "  return sentence_process_mapping"
      ],
      "execution_count": null,
      "outputs": []
    },
    {
      "cell_type": "code",
      "metadata": {
        "id": "DJlcptGYpali"
      },
      "source": [
        "#run\n",
        "def create_processed_set(processed_data) :\n",
        "  t_p1 = []\n",
        "  t_p2 = []\n",
        "  for i in tqdm(range(len(processed_data[0]))) :\n",
        "    t_p1.append(tuple(processed_data[0][i]))\n",
        "    t_p2.append(tuple(processed_data[1][i]))\n",
        "  \n",
        "  combined_list = list(set(t_p1 + t_p2))\n",
        "\n",
        "  for i in tqdm(range(len(combined_list))) :\n",
        "    combined_list[i] = list(combined_list[i])\n",
        "  \n",
        "  return combined_list\n",
        "  "
      ],
      "execution_count": null,
      "outputs": []
    },
    {
      "cell_type": "code",
      "metadata": {
        "id": "HweBxcALgLLf"
      },
      "source": [
        "#run\n",
        "def transform_data(embeddings) :\n",
        "  pca = PCA(n_components=15)\n",
        "  pca.fit(embeddings)\n",
        "\n",
        "  new_embeddings = pca.transform(embeddings)\n",
        "\n",
        "  return new_embeddings"
      ],
      "execution_count": null,
      "outputs": []
    },
    {
      "cell_type": "code",
      "metadata": {
        "id": "AOCYBXtPYHIA"
      },
      "source": [
        "#run\n",
        "def cluster_datapoints(embeddings) :\n",
        "  ncentroids_best = 100\n",
        "  niter_best = 300\n",
        "  verbose_best = True\n",
        "  max_points_per_centroid_best = int(embeddings.shape[0]/ncentroids_best/3)\n",
        "  d_best = new_embeddings.shape[1]\n",
        "  kmeans_best = faiss.Kmeans(d_best, ncentroids_best, niter=niter_best, verbose=verbose_best,gpu=True,max_points_per_centroid=max_points_per_centroid_best)\n",
        "  error_best = kmeans_best.train(embeddings)\n",
        "  _, assignment = kmeans_best.index.search(embeddings, 1)\n",
        "  return kmeans_best,assignment"
      ],
      "execution_count": null,
      "outputs": []
    },
    {
      "cell_type": "code",
      "metadata": {
        "id": "-d0Uw-hVZmED"
      },
      "source": [
        "#run\n",
        "def nearest_points(model,assignment,embeddings,global_questions,sentence_process_mapping, test_point) :\n",
        "  _, cluster = model.index.search(np.expand_dims(test_point, axis=0), 1)\n",
        "\n",
        "  same_clusters_idx = np.argwhere(assignment == cluster.item())\n",
        "  same_clusters = embeddings[same_clusters_idx[:,0]]\n",
        "\n",
        "  # tree = KDTree(embeddings, leaf_size=10)\n",
        "  tree = KDTree(same_clusters, leaf_size=10)              \n",
        "  dist, ind = tree.query(np.expand_dims(test_point, axis=0), k=1)\n",
        "\n",
        "  # questions = combined_list[same_clusters_idx[ind[0],0]]\n",
        "  questions = []\n",
        "\n",
        "  # for i in ind[0] :\n",
        "  #   questions.append(sentence_process_mapping[tuple(combined_list[i.item()])])\n",
        "\n",
        "  for i in same_clusters_idx[ind[0],0] :\n",
        "    questions.append(sentence_process_mapping[tuple(global_questions[i.item()])])\n",
        "  # for i in range(questions) :\n",
        "    # questions[i] = sentence_process_mapping[tuple(questions[i])]\n",
        "\n",
        "  # return global_embeddings[same_clusters_idx[ind[0],0]] \n",
        "  return questions \n"
      ],
      "execution_count": null,
      "outputs": []
    },
    {
      "cell_type": "code",
      "metadata": {
        "colab": {
          "base_uri": "https://localhost:8080/"
        },
        "id": "u1YwGn58ZKaC",
        "outputId": "700f6ff5-df25-42b7-f3eb-33685c60e2d7"
      },
      "source": [
        "from google.colab import drive\n",
        "drive.mount('/content/drive')\n"
      ],
      "execution_count": null,
      "outputs": [
        {
          "output_type": "stream",
          "name": "stdout",
          "text": [
            "Mounted at /content/drive\n"
          ]
        }
      ]
    },
    {
      "cell_type": "code",
      "metadata": {
        "id": "M0OD6QkXncRJ"
      },
      "source": [
        "def nearest_points_wo_clustering(embeddings,global_questions,sentence_process_mapping, test_point) :\n",
        "  \n",
        "  tree = KDTree(embeddings, leaf_size=10)\n",
        "  dist, ind = tree.query(np.expand_dims(test_point, axis=0), k=10)\n",
        "\n",
        "  questions = []\n",
        "\n",
        "  for i in ind[0] :\n",
        "    questions.append(sentence_process_mapping[tuple(combined_list[i.item()])])\n",
        "  \n",
        "  return questions"
      ],
      "execution_count": null,
      "outputs": []
    },
    {
      "cell_type": "code",
      "metadata": {
        "colab": {
          "base_uri": "https://localhost:8080/"
        },
        "id": "7SZ2vJHyqAZ2",
        "outputId": "f619ab4d-100d-4623-c656-744b538b7028"
      },
      "source": [
        "#run\n",
        "sentence_process_mapping = create_sentence_mapping(processed_data,sentence_data)"
      ],
      "execution_count": null,
      "outputs": [
        {
          "output_type": "stream",
          "name": "stderr",
          "text": [
            "100%|██████████| 577240/577240 [00:01<00:00, 358445.27it/s]\n",
            "100%|██████████| 577240/577240 [00:01<00:00, 422819.16it/s]\n"
          ]
        }
      ]
    },
    {
      "cell_type": "code",
      "metadata": {
        "colab": {
          "base_uri": "https://localhost:8080/"
        },
        "id": "NHnZawQ-qG2t",
        "outputId": "7b3370df-d537-4b30-b275-a09c1ad3dfa2"
      },
      "source": [
        "#run\n",
        "combined_list = create_processed_set(processed_data)"
      ],
      "execution_count": null,
      "outputs": [
        {
          "output_type": "stream",
          "name": "stderr",
          "text": [
            "100%|██████████| 577240/577240 [00:00<00:00, 726630.59it/s]\n",
            "100%|██████████| 508628/508628 [00:01<00:00, 381115.01it/s]\n"
          ]
        }
      ]
    },
    {
      "cell_type": "code",
      "metadata": {
        "id": "sIEmCMs0gYD7"
      },
      "source": [
        "#run\n",
        "new_embeddings = transform_data(embeddings)"
      ],
      "execution_count": null,
      "outputs": []
    },
    {
      "cell_type": "code",
      "metadata": {
        "id": "xEnDDiz9bMK6"
      },
      "source": [
        "#run\n",
        "model,assignment = cluster_datapoints(new_embeddings)\n",
        "\n"
      ],
      "execution_count": null,
      "outputs": []
    },
    {
      "cell_type": "code",
      "metadata": {
        "colab": {
          "base_uri": "https://localhost:8080/"
        },
        "id": "pjPn40s3bwJF",
        "outputId": "bc6f0000-b349-4412-934e-8d1a2fcb7b44"
      },
      "source": [
        "%%time\n",
        "neighbors = nearest_points_wo_clustering(new_embeddings,combined_list,sentence_process_mapping,new_embeddings[100])\n",
        "\n",
        "print(neighbors)"
      ],
      "execution_count": null,
      "outputs": [
        {
          "output_type": "stream",
          "name": "stdout",
          "text": [
            "[['Is attending the Webit Festival in Sofia 2017 worth it?'], ['Why are HP laptops so slow?', 'Why is my HP laptop so slow?'], ['Why do races always run in a counterclockwise direction?'], ['Have you ever written your own disassembler for Motorola 68000 family CPUs? Did you discover anything unexpected?'], ['Why do we define bandwidth as range between frequencies corresponding to half power point and not any other point? Is that point special?'], ['If you are in the middle of nowhere with a group of friends, what do you do if you accidentally injure a wild animal?'], [\"I'm finding physics too tough. What should I do for JEE 2017?\"], ['Is there any apartment on lease base?'], ['Who was Hellen Keller?'], ['Why does Quora allow downvotes to collapse answers?']]\n",
            "CPU times: user 2.91 s, sys: 52.4 ms, total: 2.96 s\n",
            "Wall time: 2.94 s\n"
          ]
        }
      ]
    },
    {
      "cell_type": "code",
      "metadata": {
        "id": "wxFOHzyGd3uw"
      },
      "source": [
        "from IPython.display import Markdown, display\n",
        "def printmd(string):\n",
        "    display(Markdown(string))"
      ],
      "execution_count": null,
      "outputs": []
    },
    {
      "cell_type": "code",
      "metadata": {
        "id": "uyqIKEicd4M6"
      },
      "source": [
        ""
      ],
      "execution_count": null,
      "outputs": []
    },
    {
      "cell_type": "code",
      "metadata": {
        "colab": {
          "base_uri": "https://localhost:8080/",
          "height": 230
        },
        "id": "db15auEonGmG",
        "outputId": "b7bddbd1-8b7c-4792-dc3b-618fd55e2f18"
      },
      "source": [
        "neighbors = nearest_points(model,assignment,new_embeddings,combined_list,sentence_process_mapping,new_embeddings[21777])\n",
        "printmd(\"Original Question:\")\n",
        "printmd(\"**\"+ sentence_process_mapping[tuple(combined_list[21777])][0] + \"**\")\n",
        "printmd(\"Similar Questions:\")\n",
        "for neighbor in neighbors[0]:\n",
        "  printmd(\"**\" + neighbor + \"**\")"
      ],
      "execution_count": null,
      "outputs": [
        {
          "output_type": "display_data",
          "data": {
            "text/markdown": "Original Question:",
            "text/plain": [
              "<IPython.core.display.Markdown object>"
            ]
          },
          "metadata": {}
        },
        {
          "output_type": "display_data",
          "data": {
            "text/markdown": "**What can I do to increase my IQ?**",
            "text/plain": [
              "<IPython.core.display.Markdown object>"
            ]
          },
          "metadata": {}
        },
        {
          "output_type": "display_data",
          "data": {
            "text/markdown": "Similar Questions:",
            "text/plain": [
              "<IPython.core.display.Markdown object>"
            ]
          },
          "metadata": {}
        },
        {
          "output_type": "display_data",
          "data": {
            "text/markdown": "**What can I do to increase my IQ?**",
            "text/plain": [
              "<IPython.core.display.Markdown object>"
            ]
          },
          "metadata": {}
        },
        {
          "output_type": "display_data",
          "data": {
            "text/markdown": "**How can you increase your IQ?**",
            "text/plain": [
              "<IPython.core.display.Markdown object>"
            ]
          },
          "metadata": {}
        },
        {
          "output_type": "display_data",
          "data": {
            "text/markdown": "**Can I increase my IQ?**",
            "text/plain": [
              "<IPython.core.display.Markdown object>"
            ]
          },
          "metadata": {}
        },
        {
          "output_type": "display_data",
          "data": {
            "text/markdown": "**How do I increase IQ?**",
            "text/plain": [
              "<IPython.core.display.Markdown object>"
            ]
          },
          "metadata": {}
        },
        {
          "output_type": "display_data",
          "data": {
            "text/markdown": "**How can I increase my IQ?**",
            "text/plain": [
              "<IPython.core.display.Markdown object>"
            ]
          },
          "metadata": {}
        },
        {
          "output_type": "display_data",
          "data": {
            "text/markdown": "**How we can increase our IQ?**",
            "text/plain": [
              "<IPython.core.display.Markdown object>"
            ]
          },
          "metadata": {}
        }
      ]
    },
    {
      "cell_type": "code",
      "metadata": {
        "colab": {
          "base_uri": "https://localhost:8080/"
        },
        "id": "7AJD1-HOoWwC",
        "outputId": "fc8f8ee1-440c-4217-f78d-c64fa73f3c76"
      },
      "source": [
        "ratio = 2940/18.1\n",
        "print(ratio)"
      ],
      "execution_count": null,
      "outputs": [
        {
          "output_type": "stream",
          "name": "stdout",
          "text": [
            "162.4309392265193\n"
          ]
        }
      ]
    },
    {
      "cell_type": "code",
      "metadata": {
        "colab": {
          "base_uri": "https://localhost:8080/"
        },
        "id": "Uk1lkYEVl2ad",
        "outputId": "feb43eba-cb88-49d1-fb8e-d6d2142c81aa"
      },
      "source": [
        "combined_list[21777]"
      ],
      "execution_count": null,
      "outputs": [
        {
          "output_type": "execute_result",
          "data": {
            "text/plain": [
              "['increase', 'iq']"
            ]
          },
          "metadata": {},
          "execution_count": 65
        }
      ]
    },
    {
      "cell_type": "code",
      "metadata": {
        "id": "kLk5SySy1Fda"
      },
      "source": [
        "ncentroids_best = 100\n",
        "niter_best = 300\n",
        "verbose_best = True\n",
        "max_points_per_centroid_best = int(new_embeddings.shape[0]/ncentroids_best/3)\n",
        "d_best = new_embeddings.shape[1]\n",
        "kmeans_best = faiss.Kmeans(d_best, ncentroids_best, niter=niter_best, verbose=verbose_best,gpu=True,max_points_per_centroid=max_points_per_centroid_best)\n",
        "error_best = kmeans_best.train(new_embeddings)"
      ],
      "execution_count": null,
      "outputs": []
    },
    {
      "cell_type": "code",
      "metadata": {
        "colab": {
          "base_uri": "https://localhost:8080/"
        },
        "id": "eYGb7Y2FXbLg",
        "outputId": "0546f626-3fbf-4b14-ca14-8ea0deefbcbc"
      },
      "source": [
        "print(error_best)"
      ],
      "execution_count": null,
      "outputs": [
        {
          "output_type": "stream",
          "name": "stdout",
          "text": [
            "1598558.0\n"
          ]
        }
      ]
    },
    {
      "cell_type": "code",
      "metadata": {
        "id": "U_JeeFSE1Z0b"
      },
      "source": [
        "centroids_best = kmeans_best.centroids"
      ],
      "execution_count": null,
      "outputs": []
    },
    {
      "cell_type": "code",
      "metadata": {
        "id": "VgVOIV4i1hrA"
      },
      "source": [
        "_, assignment = kmeans_best.index.search(new_embeddings, 1)"
      ],
      "execution_count": null,
      "outputs": []
    },
    {
      "cell_type": "code",
      "metadata": {
        "colab": {
          "base_uri": "https://localhost:8080/"
        },
        "id": "5x1hVxmg1roQ",
        "outputId": "5a4f42e4-eafa-42d3-814e-42e227b4ee8b"
      },
      "source": [
        "assignment"
      ],
      "execution_count": null,
      "outputs": [
        {
          "output_type": "execute_result",
          "data": {
            "text/plain": [
              "array([[79],\n",
              "       [99],\n",
              "       [64],\n",
              "       ...,\n",
              "       [86],\n",
              "       [27],\n",
              "       [75]])"
            ]
          },
          "metadata": {},
          "execution_count": 31
        }
      ]
    },
    {
      "cell_type": "code",
      "metadata": {
        "id": "EKtkaJre3sKX"
      },
      "source": [
        "_, t = kmeans_best.index.search(np.expand_dims(new_embeddings[1], axis=0), 1)"
      ],
      "execution_count": null,
      "outputs": []
    },
    {
      "cell_type": "code",
      "metadata": {
        "colab": {
          "base_uri": "https://localhost:8080/"
        },
        "id": "q8cCZuSR4FfJ",
        "outputId": "c8c671e8-c55c-430b-d953-45cb15445ea7"
      },
      "source": [
        "t"
      ],
      "execution_count": null,
      "outputs": [
        {
          "output_type": "execute_result",
          "data": {
            "text/plain": [
              "array([[99]])"
            ]
          },
          "metadata": {},
          "execution_count": 33
        }
      ]
    },
    {
      "cell_type": "code",
      "metadata": {
        "id": "MKt9zKcp4Ll0"
      },
      "source": [
        ""
      ],
      "execution_count": null,
      "outputs": []
    },
    {
      "cell_type": "code",
      "metadata": {
        "colab": {
          "base_uri": "https://localhost:8080/"
        },
        "id": "gnJSBVd04-aA",
        "outputId": "4a9d39e9-78b0-45f3-e729-f2d3b81cdaeb"
      },
      "source": [
        "t.item()"
      ],
      "execution_count": null,
      "outputs": [
        {
          "output_type": "execute_result",
          "data": {
            "text/plain": [
              "97"
            ]
          },
          "metadata": {},
          "execution_count": 135
        }
      ]
    },
    {
      "cell_type": "code",
      "metadata": {
        "colab": {
          "base_uri": "https://localhost:8080/"
        },
        "id": "a91-WtTK5Cxq",
        "outputId": "00642751-d755-44dd-b1c4-a01239fa9d96"
      },
      "source": [
        "items = np.argwhere(assignment == t.item())\n",
        "same_clusters = new_embeddings[items[:,0]]\n",
        "print(same_clusters.shape)\n",
        "# print(items[0,0])"
      ],
      "execution_count": null,
      "outputs": [
        {
          "output_type": "stream",
          "name": "stdout",
          "text": [
            "(4924, 15)\n",
            "1\n"
          ]
        }
      ]
    },
    {
      "cell_type": "code",
      "metadata": {
        "id": "lUmzX0jo59Os"
      },
      "source": [
        "test_pt = new_embeddings[1]\n",
        "test_pt = test_pt * 2"
      ],
      "execution_count": null,
      "outputs": []
    },
    {
      "cell_type": "code",
      "metadata": {
        "colab": {
          "base_uri": "https://localhost:8080/"
        },
        "id": "TUlXJ8b1449P",
        "outputId": "0d2291dc-e49a-4078-f936-0114115b238a"
      },
      "source": [
        "tree = KDTree(same_clusters, leaf_size=10)              \n",
        "dist, ind = tree.query(np.expand_dims(new_embeddings[1], axis=0), k=10)\n",
        "print(ind[0])\n",
        "print(dist)"
      ],
      "execution_count": null,
      "outputs": [
        {
          "output_type": "stream",
          "name": "stdout",
          "text": [
            "[   0 3621 3726 2074 3254 4440  976  752 4539 1551]\n",
            "[[0.         0.36958087 0.43505196 0.52824289 0.62821375 0.67114301\n",
            "  0.71577683 0.73263009 0.87439212 0.90345756]]\n"
          ]
        }
      ]
    },
    {
      "cell_type": "code",
      "metadata": {
        "colab": {
          "base_uri": "https://localhost:8080/"
        },
        "id": "zm0M2DwB6Kiu",
        "outputId": "be66e67c-9f30-4d44-9c63-a7bb15ae66e0"
      },
      "source": [
        "tree = KDTree(same_clusters, leaf_size=10)              \n",
        "dist, ind = tree.query(np.expand_dims(test_pt, axis=0), k=10)\n",
        "print(ind)\n",
        "print(dist)"
      ],
      "execution_count": null,
      "outputs": [
        {
          "output_type": "stream",
          "name": "stdout",
          "text": [
            "[[5277 2827 1925 4176 1068  138 2498 4317  922  514]]\n",
            "[[9.27116119 9.27423169 9.2807509  9.29934967 9.30468298 9.31300934\n",
            "  9.31353989 9.31516794 9.31519465 9.31536384]]\n"
          ]
        }
      ]
    },
    {
      "cell_type": "code",
      "metadata": {
        "id": "tRBuEUKSrQhL"
      },
      "source": [
        "uq, counts = np.unique(I,return_counts=True)\n"
      ],
      "execution_count": null,
      "outputs": []
    },
    {
      "cell_type": "code",
      "metadata": {
        "colab": {
          "base_uri": "https://localhost:8080/"
        },
        "id": "vdwoObzQri5n",
        "outputId": "0091725d-1534-49cb-ec44-6a4d1460c4cd"
      },
      "source": [
        "temp = list(zip(uq,counts))\n",
        "temp.sort(key = lambda x : x[1],reverse=True)\n",
        "print(temp)"
      ],
      "execution_count": null,
      "outputs": [
        {
          "output_type": "stream",
          "name": "stdout",
          "text": [
            "[(479, 3345), (126, 1813), (253, 1762), (344, 1736), (105, 1714), (274, 1690), (358, 1689), (188, 1678), (76, 1674), (8, 1671), (431, 1632), (231, 1631), (268, 1614), (87, 1610), (491, 1608), (359, 1601), (77, 1599), (474, 1591), (198, 1586), (83, 1572), (498, 1567), (286, 1565), (371, 1565), (300, 1562), (41, 1551), (256, 1543), (336, 1540), (450, 1540), (421, 1539), (35, 1536), (307, 1535), (497, 1520), (401, 1510), (153, 1507), (55, 1499), (193, 1499), (137, 1498), (31, 1496), (380, 1490), (182, 1486), (470, 1480), (189, 1469), (236, 1450), (195, 1448), (243, 1447), (397, 1447), (424, 1444), (332, 1442), (454, 1442), (430, 1439), (317, 1423), (304, 1421), (452, 1413), (205, 1412), (208, 1410), (373, 1408), (312, 1404), (178, 1402), (84, 1399), (52, 1394), (80, 1392), (299, 1392), (471, 1392), (248, 1387), (234, 1376), (85, 1370), (97, 1370), (461, 1369), (458, 1368), (360, 1366), (468, 1366), (237, 1354), (57, 1353), (166, 1350), (409, 1350), (281, 1348), (148, 1347), (168, 1347), (138, 1345), (260, 1345), (366, 1345), (74, 1344), (59, 1343), (367, 1340), (114, 1339), (459, 1336), (95, 1335), (472, 1335), (460, 1328), (250, 1327), (25, 1326), (242, 1326), (21, 1321), (194, 1321), (480, 1318), (374, 1317), (18, 1313), (261, 1313), (216, 1304), (292, 1303), (319, 1303), (19, 1300), (457, 1296), (415, 1295), (218, 1292), (496, 1292), (419, 1291), (167, 1290), (13, 1289), (486, 1282), (488, 1274), (294, 1270), (165, 1268), (316, 1263), (340, 1260), (106, 1257), (123, 1253), (133, 1253), (69, 1245), (162, 1236), (247, 1234), (98, 1230), (42, 1226), (139, 1222), (169, 1216), (363, 1215), (308, 1211), (463, 1210), (323, 1209), (113, 1203), (389, 1202), (32, 1201), (382, 1201), (207, 1199), (124, 1195), (150, 1191), (223, 1187), (93, 1186), (86, 1178), (129, 1175), (395, 1174), (394, 1169), (81, 1167), (192, 1165), (39, 1162), (400, 1162), (142, 1161), (267, 1161), (477, 1161), (425, 1156), (288, 1155), (15, 1153), (75, 1152), (119, 1152), (202, 1152), (330, 1150), (493, 1150), (407, 1147), (62, 1145), (111, 1144), (213, 1136), (112, 1133), (411, 1133), (484, 1133), (156, 1131), (204, 1130), (356, 1129), (245, 1128), (3, 1125), (306, 1125), (235, 1124), (476, 1120), (17, 1119), (44, 1116), (196, 1115), (462, 1115), (348, 1114), (154, 1113), (244, 1113), (158, 1112), (14, 1111), (246, 1105), (313, 1100), (130, 1096), (180, 1096), (352, 1096), (355, 1096), (447, 1096), (63, 1095), (417, 1094), (445, 1094), (240, 1093), (125, 1091), (338, 1091), (65, 1090), (238, 1090), (220, 1089), (405, 1082), (110, 1081), (109, 1080), (376, 1079), (465, 1075), (203, 1074), (68, 1073), (221, 1069), (285, 1064), (60, 1061), (295, 1059), (383, 1058), (428, 1057), (353, 1055), (0, 1054), (326, 1054), (134, 1053), (161, 1050), (132, 1045), (37, 1042), (118, 1042), (197, 1040), (171, 1039), (272, 1039), (11, 1038), (331, 1038), (183, 1036), (228, 1036), (141, 1035), (345, 1031), (102, 1030), (239, 1025), (28, 1024), (1, 1020), (289, 1020), (347, 1019), (51, 1017), (259, 1015), (136, 1014), (187, 1014), (278, 1014), (276, 1007), (365, 1007), (404, 1007), (190, 1004), (361, 1004), (30, 1003), (303, 1000), (315, 999), (388, 998), (440, 998), (26, 997), (120, 993), (174, 993), (271, 993), (390, 992), (143, 989), (201, 989), (346, 984), (368, 984), (157, 983), (211, 983), (45, 982), (66, 982), (327, 982), (387, 981), (408, 979), (466, 979), (483, 978), (72, 977), (485, 977), (33, 971), (469, 966), (351, 964), (422, 964), (464, 962), (36, 960), (251, 959), (78, 955), (67, 953), (128, 949), (222, 949), (12, 948), (147, 947), (342, 941), (335, 940), (413, 940), (378, 939), (149, 937), (135, 935), (448, 935), (455, 932), (7, 931), (151, 931), (375, 930), (53, 929), (482, 922), (412, 918), (297, 916), (324, 915), (414, 914), (140, 911), (264, 907), (71, 905), (104, 903), (309, 903), (291, 902), (453, 901), (58, 900), (229, 899), (99, 894), (23, 892), (481, 892), (219, 891), (310, 891), (252, 888), (269, 888), (333, 888), (350, 887), (398, 887), (40, 884), (82, 882), (372, 881), (184, 877), (152, 875), (175, 875), (489, 875), (226, 874), (298, 873), (449, 873), (29, 872), (305, 872), (349, 871), (437, 871), (302, 869), (155, 867), (339, 867), (436, 866), (321, 865), (255, 864), (492, 863), (224, 857), (90, 856), (181, 855), (10, 853), (176, 850), (160, 849), (200, 845), (364, 845), (343, 842), (49, 838), (209, 838), (263, 836), (262, 835), (287, 833), (108, 832), (146, 831), (265, 830), (354, 829), (283, 828), (282, 824), (451, 824), (473, 821), (212, 820), (177, 819), (43, 818), (4, 810), (27, 810), (70, 809), (249, 808), (24, 807), (386, 803), (145, 802), (391, 802), (439, 802), (191, 801), (423, 801), (490, 800), (163, 799), (254, 792), (406, 788), (89, 787), (64, 785), (284, 785), (385, 784), (334, 783), (225, 782), (2, 774), (427, 774), (433, 774), (232, 771), (446, 771), (322, 770), (48, 768), (103, 765), (214, 762), (329, 762), (499, 760), (121, 757), (186, 757), (384, 757), (117, 756), (101, 755), (396, 754), (441, 750), (314, 746), (38, 731), (290, 730), (369, 727), (311, 724), (362, 724), (92, 723), (170, 722), (172, 718), (438, 716), (173, 713), (337, 713), (22, 712), (296, 712), (46, 711), (410, 710), (325, 709), (399, 709), (279, 708), (393, 707), (379, 701), (206, 700), (131, 698), (266, 696), (277, 696), (443, 696), (432, 695), (475, 691), (478, 691), (100, 689), (370, 689), (429, 685), (94, 682), (258, 680), (233, 677), (116, 674), (115, 669), (420, 669), (381, 668), (301, 657), (127, 653), (328, 650), (273, 646), (270, 645), (402, 645), (418, 643), (494, 643), (403, 640), (144, 637), (434, 631), (318, 624), (16, 619), (487, 611), (179, 607), (215, 605), (107, 600), (456, 597), (96, 596), (9, 590), (230, 586), (56, 583), (159, 577), (275, 577), (320, 574), (495, 574), (217, 572), (91, 571), (50, 570), (164, 570), (467, 569), (257, 567), (416, 565), (20, 563), (122, 563), (227, 561), (341, 548), (444, 548), (73, 546), (54, 539), (426, 535), (293, 528), (88, 523), (377, 518), (34, 515), (280, 512), (185, 510), (47, 509), (79, 469), (435, 433), (6, 416), (210, 411), (241, 402), (61, 393), (5, 388), (392, 345), (442, 325), (357, 244), (199, 218)]\n"
          ]
        }
      ]
    },
    {
      "cell_type": "code",
      "metadata": {
        "colab": {
          "base_uri": "https://localhost:8080/"
        },
        "id": "KTKw16oqs8t5",
        "outputId": "02fbc53b-1ff3-4a8c-e7c2-d1a14c25645e"
      },
      "source": [
        "error"
      ],
      "execution_count": null,
      "outputs": [
        {
          "output_type": "execute_result",
          "data": {
            "text/plain": [
              "783352.5"
            ]
          },
          "metadata": {},
          "execution_count": 106
        }
      ]
    },
    {
      "cell_type": "code",
      "metadata": {
        "colab": {
          "base_uri": "https://localhost:8080/"
        },
        "id": "G6Sr4fZ5myRB",
        "outputId": "11f364e2-57c5-4704-b5a8-1adc69718315"
      },
      "source": [
        "kmeans"
      ],
      "execution_count": null,
      "outputs": [
        {
          "output_type": "execute_result",
          "data": {
            "text/plain": [
              "<faiss.Kmeans at 0x7f0c414e4790>"
            ]
          },
          "metadata": {},
          "execution_count": 65
        }
      ]
    },
    {
      "cell_type": "code",
      "metadata": {
        "id": "WZUaNz21rzSf"
      },
      "source": [
        ""
      ],
      "execution_count": null,
      "outputs": []
    },
    {
      "cell_type": "code",
      "metadata": {
        "colab": {
          "base_uri": "https://localhost:8080/"
        },
        "id": "ESoSVL_UlJL_",
        "outputId": "59607168-8f01-4be8-dc1f-5e20e168e7e3"
      },
      "source": [
        "kmeans.centroids.shape"
      ],
      "execution_count": null,
      "outputs": [
        {
          "output_type": "execute_result",
          "data": {
            "text/plain": [
              "(400, 50)"
            ]
          },
          "metadata": {},
          "execution_count": 81
        }
      ]
    }
  ]
}